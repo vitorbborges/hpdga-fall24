{
 "cells": [
  {
   "cell_type": "code",
   "execution_count": 1,
   "metadata": {
    "colab": {
     "base_uri": "https://localhost:8080/"
    },
    "executionInfo": {
     "elapsed": 6080,
     "status": "ok",
     "timestamp": 1732634686818,
     "user": {
      "displayName": "Vitor Bandeira Borges",
      "userId": "01292291931228307782"
     },
     "user_tz": -60
    },
    "id": "wAbrASA_-8mN",
    "outputId": "6ad2b8bd-2473-4c1b-adbd-03ae571d7031"
   },
   "outputs": [
    {
     "name": "stdout",
     "output_type": "stream",
     "text": [
      "Requirement already satisfied: python-dotenv in /usr/local/lib/python3.10/dist-packages (1.0.1)\n"
     ]
    }
   ],
   "source": [
    "!pip install python-dotenv"
   ]
  },
  {
   "cell_type": "code",
   "execution_count": 2,
   "metadata": {
    "colab": {
     "base_uri": "https://localhost:8080/"
    },
    "executionInfo": {
     "elapsed": 2976,
     "status": "ok",
     "timestamp": 1732634689758,
     "user": {
      "displayName": "Vitor Bandeira Borges",
      "userId": "01292291931228307782"
     },
     "user_tz": -60
    },
    "id": "8aWHapDw7Qnl",
    "outputId": "952874d4-f2b6-4632-ebdf-459433cdc8b3"
   },
   "outputs": [
    {
     "name": "stdout",
     "output_type": "stream",
     "text": [
      "Drive already mounted at /content/drive; to attempt to forcibly remount, call drive.mount(\"/content/drive\", force_remount=True).\n",
      "Token loaded successfully\n",
      "Repository already cloned. Pulling the latest changes...\n"
     ]
    }
   ],
   "source": [
    "# Mount Google Drive to access the folder containing the git repository\n",
    "from google.colab import drive\n",
    "import os\n",
    "from dotenv import load_dotenv\n",
    "import subprocess\n",
    "\n",
    "# Mount Google Drive\n",
    "drive.mount('/content/drive')\n",
    "\n",
    "# Define the path to your Git repository folder inside Google Drive\n",
    "repo_path = '/content/drive/MyDrive/High-Performance Graph and Data Analysis/hpdga-fall24'\n",
    "\n",
    "# Change working directory to the repository folder inside Google Drive\n",
    "os.chdir(repo_path)\n",
    "\n",
    "# Load environment variables from the .env file\n",
    "load_dotenv(repo_path+'/.env')\n",
    "\n",
    "# Read the GitHub token from the environment variable\n",
    "github_token = os.getenv('GITHUB_TOKEN')\n",
    "\n",
    "# Ensure the token is loaded correctly\n",
    "if github_token:\n",
    "    print(\"Token loaded successfully\")\n",
    "else:\n",
    "    print(\"Token not found. Please check your .env file.\")\n",
    "\n",
    "# Check if the repository is already cloned\n",
    "if not os.path.isdir(\".git\"):\n",
    "    # Define the repository URL with the token for authentication\n",
    "    repo_url = f\"https://{github_token}@github.com/vitorbborges/hpdga-fall24.git\"\n",
    "\n",
    "    # Clone the repository\n",
    "    clone_command = f\"git clone {repo_url}\"\n",
    "\n",
    "    # Run the git clone command\n",
    "    subprocess.run(clone_command, shell=True)\n",
    "else:\n",
    "    print(\"Repository already cloned. Pulling the latest changes...\")\n",
    "    # Pull the latest changes if the repo is already cloned\n",
    "    subprocess.run(\"git pull origin master\", shell=True)  # or 'master' depending on your default branch\n"
   ]
  },
  {
   "cell_type": "code",
   "execution_count": null,
   "metadata": {
    "colab": {
     "base_uri": "https://localhost:8080/"
    },
    "id": "O38FlwYWDVaq",
    "outputId": "0dde718a-0126-4ab4-c096-d6e282b4d414"
   },
   "outputs": [
    {
     "name": "stdout",
     "output_type": "stream",
     "text": [
      "-- Configuring done (0.1s)\n",
      "-- Generating done (0.5s)\n",
      "-- Build files have been written to: /content/drive/MyDrive/High-Performance Graph and Data Analysis/hpdga-fall24/build\n",
      "[  0%] Built target hnsw\n",
      "Index construction completed.\n",
      "index_construction: 19801 [ms]\n"
     ]
    }
   ],
   "source": [
    "!mkdir -p build && cd build \\\n",
    "&& cmake .. \\\n",
    "&& make \\\n",
    "&& ./hnsw"
   ]
  },
  {
   "cell_type": "code",
   "execution_count": null,
   "metadata": {},
   "outputs": [],
   "source": []
  }
 ],
 "metadata": {
  "colab": {
   "authorship_tag": "ABX9TyNwZzXZoIPSv/3LGHIHITxi",
   "mount_file_id": "12L2YlNEWBUZp9rI8RfngQb7xzXvKJW9Y",
   "provenance": []
  },
  "kernelspec": {
   "display_name": "Python 3",
   "name": "python3"
  },
  "language_info": {
   "name": "python"
  }
 },
 "nbformat": 4,
 "nbformat_minor": 0
}
