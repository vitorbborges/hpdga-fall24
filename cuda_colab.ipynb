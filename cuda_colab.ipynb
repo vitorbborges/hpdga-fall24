{
 "cells": [
  {
   "cell_type": "code",
   "execution_count": null,
   "metadata": {},
   "outputs": [],
   "source": [
    "!pip install python-dotenv"
   ]
  },
  {
   "cell_type": "code",
   "execution_count": null,
   "metadata": {
    "colab": {
     "background_save": true,
     "base_uri": "https://localhost:8080/"
    },
    "id": "2MirQybATUKy",
    "outputId": "7e6f1acb-635d-4af4-836a-12298f41e740"
   },
   "outputs": [
    {
     "name": "stdout",
     "output_type": "stream",
     "text": [
      "++ mktemp -d\n",
      "+ cd /tmp/tmp.CmrnVRx86D\n",
      "+ wget https://developer.download.nvidia.com/compute/cuda/12.1.0/local_installers/cuda_12.1.0_530.30.02_linux.run\n",
      "--2024-04-28 00:24:00--  https://developer.download.nvidia.com/compute/cuda/12.1.0/local_installers/cuda_12.1.0_530.30.02_linux.run\n",
      "Resolving developer.download.nvidia.com (developer.download.nvidia.com)... 152.195.19.142\n",
      "Connecting to developer.download.nvidia.com (developer.download.nvidia.com)|152.195.19.142|:443... connected.\n",
      "HTTP request sent, awaiting response... 200 OK\n",
      "Length: 4245586997 (4.0G) [application/octet-stream]\n",
      "Saving to: ‘cuda_12.1.0_530.30.02_linux.run’\n",
      "\n",
      "cuda_12.1.0_530.30. 100%[===================>]   3.95G   213MB/s    in 22s     \n",
      "\n",
      "2024-04-28 00:24:21 (187 MB/s) - ‘cuda_12.1.0_530.30.02_linux.run’ saved [4245586997/4245586997]\n",
      "\n",
      "+ sudo sh cuda_12.1.0_530.30.02_linux.run --silent --toolkit\n",
      "+ rm cuda_12.1.0_530.30.02_linux.run\n"
     ]
    }
   ],
   "source": [
    "# Download and install CUDA 12.1\n",
    "! set -x \\\n",
    "&& cd $(mktemp -d) \\\n",
    "&& wget https://developer.download.nvidia.com/compute/cuda/12.1.0/local_installers/cuda_12.1.0_530.30.02_linux.run \\\n",
    "&& sudo sh cuda_12.1.0_530.30.02_linux.run --silent --toolkit \\\n",
    "&& rm cuda_12.1.0_530.30.02_linux.run"
   ]
  },
  {
   "cell_type": "code",
   "execution_count": null,
   "metadata": {},
   "outputs": [],
   "source": [
    "from google.colab import drive\n",
    "drive.mount('/content/drive')"
   ]
  },
  {
   "cell_type": "code",
   "execution_count": null,
   "metadata": {},
   "outputs": [],
   "source": [
    "# Mount Google Drive to access the folder containing the git repository\n",
    "from google.colab import drive\n",
    "import os\n",
    "from dotenv import load_dotenv\n",
    "import subprocess\n",
    "\n",
    "# Mount Google Drive\n",
    "drive.mount('/content/drive')\n",
    "\n",
    "# Define the path to your Git repository folder inside Google Drive\n",
    "repo_path = '/content/drive/MyDrive/High-Performance Graph and Data Analysis/hpdga-fall24'\n",
    "\n",
    "# Change working directory to the repository folder inside Google Drive\n",
    "os.chdir(repo_path)\n",
    "\n",
    "# Load environment variables from the .env file\n",
    "load_dotenv(repo_path+'/.env')\n",
    "\n",
    "# Read the GitHub token from the environment variable\n",
    "github_token = os.getenv('GITHUB_TOKEN')\n",
    "\n",
    "# Ensure the token is loaded correctly\n",
    "if github_token:\n",
    "    print(\"Token loaded successfully\")\n",
    "else:\n",
    "    print(\"Token not found. Please check your .env file.\")\n",
    "\n",
    "# Select target branch\n",
    "target_branch = \"accelerate-search\"\n",
    "\n",
    "# Check if the repository is already cloned\n",
    "if not os.path.isdir(\".git\"):\n",
    "    # Define the repository URL with the token for authentication\n",
    "    repo_url = f\"https://{github_token}@github.com/vitorbborges/hpdga-fall24.git\"\n",
    "\n",
    "    # Clone the repository\n",
    "    clone_command = f\"git clone {repo_url}\"\n",
    "\n",
    "    # Run the git clone command\n",
    "    subprocess.run(clone_command, shell=True)\n",
    "else:\n",
    "    print(\"Repository already cloned. Pulling the latest changes...\")\n",
    "    # Pull the latest changes if the repo is already cloned\n",
    "    subprocess.run(f\"git pull origin {target_branch}\", shell=True)\n",
    "    subprocess.run(f\"git checkout {target_branch}\")\n"
   ]
  },
  {
   "cell_type": "code",
   "execution_count": null,
   "metadata": {
    "id": "NcV9CurKTXI7"
   },
   "outputs": [],
   "source": [
    "import os\n",
    "\n",
    "# Add CUDA installation to PATH\n",
    "os.environ['PATH'] = os.environ['PATH'] + ':/usr/local/cuda/bin/'"
   ]
  },
  {
   "cell_type": "code",
   "execution_count": null,
   "metadata": {
    "id": "i68SAUyqaf0J"
   },
   "outputs": [],
   "source": [
    "# Compile your program\n",
    "!cmake --build build --target run"
   ]
  },
  {
   "cell_type": "code",
   "execution_count": null,
   "metadata": {
    "colab": {
     "base_uri": "https://localhost:8080/"
    },
    "id": "iTz5ihcF6t6z",
    "outputId": "f6c2b6dc-7c0b-4ba0-a3f5-a9598f2cc855"
   },
   "outputs": [
    {
     "name": "stdout",
     "output_type": "stream",
     "text": [
      "bin2c\t\t   cuda-gdb\t   cuobjdump  nvcc\t\t   nvlink\t     nvprune\n",
      "compute-sanitizer  cuda-gdbserver  fatbinary  __nvcc_device_query  nv-nsight-cu      ptxas\n",
      "crt\t\t   cuda-memcheck   ncu\t      nvcc.profile\t   nv-nsight-cu-cli\n",
      "cudafe++\t   cu++filt\t   ncu-ui     nvdisasm\t\t   nvprof\n"
     ]
    }
   ],
   "source": [
    "# Profile your program obtaining the output to pass to NSight System\n",
    "!nsys profile build/CudaProject"
   ]
  }
 ],
 "metadata": {
  "accelerator": "GPU",
  "colab": {
   "include_colab_link": true,
   "provenance": []
  },
  "gpuClass": "standard",
  "kernelspec": {
   "display_name": "Python 3",
   "name": "python3"
  },
  "language_info": {
   "name": "python"
  }
 },
 "nbformat": 4,
 "nbformat_minor": 0
}
